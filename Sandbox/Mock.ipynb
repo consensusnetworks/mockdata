{
 "cells": [
  {
   "cell_type": "code",
   "execution_count": 38,
   "id": "69ddf6b2",
   "metadata": {},
   "outputs": [],
   "source": [
    "from faker import Faker\n",
    "import pandas as pd\n",
    "\n",
    "from scipy.stats import norminvgauss\n",
    "import matplotlib.pyplot as plt\n",
    "\n",
    "import numpy as np"
   ]
  },
  {
   "cell_type": "code",
   "execution_count": 71,
   "id": "eabbb335",
   "metadata": {
    "collapsed": true
   },
   "outputs": [
    {
     "data": {
      "text/html": [
       "<div>\n",
       "<style scoped>\n",
       "    .dataframe tbody tr th:only-of-type {\n",
       "        vertical-align: middle;\n",
       "    }\n",
       "\n",
       "    .dataframe tbody tr th {\n",
       "        vertical-align: top;\n",
       "    }\n",
       "\n",
       "    .dataframe thead th {\n",
       "        text-align: right;\n",
       "    }\n",
       "</style>\n",
       "<table border=\"1\" class=\"dataframe\">\n",
       "  <thead>\n",
       "    <tr style=\"text-align: right;\">\n",
       "      <th></th>\n",
       "      <th>Plt_tranfused</th>\n",
       "    </tr>\n",
       "  </thead>\n",
       "  <tbody>\n",
       "    <tr>\n",
       "      <th>2013-01-01</th>\n",
       "      <td>43.54</td>\n",
       "    </tr>\n",
       "    <tr>\n",
       "      <th>2013-01-02</th>\n",
       "      <td>37.36</td>\n",
       "    </tr>\n",
       "    <tr>\n",
       "      <th>2013-01-03</th>\n",
       "      <td>39.98</td>\n",
       "    </tr>\n",
       "    <tr>\n",
       "      <th>2013-01-04</th>\n",
       "      <td>45.70</td>\n",
       "    </tr>\n",
       "    <tr>\n",
       "      <th>2013-01-05</th>\n",
       "      <td>44.01</td>\n",
       "    </tr>\n",
       "    <tr>\n",
       "      <th>...</th>\n",
       "      <td>...</td>\n",
       "    </tr>\n",
       "    <tr>\n",
       "      <th>2014-12-28</th>\n",
       "      <td>31.32</td>\n",
       "    </tr>\n",
       "    <tr>\n",
       "      <th>2014-12-29</th>\n",
       "      <td>41.18</td>\n",
       "    </tr>\n",
       "    <tr>\n",
       "      <th>2014-12-30</th>\n",
       "      <td>39.23</td>\n",
       "    </tr>\n",
       "    <tr>\n",
       "      <th>2014-12-31</th>\n",
       "      <td>38.21</td>\n",
       "    </tr>\n",
       "    <tr>\n",
       "      <th>2015-01-01</th>\n",
       "      <td>33.26</td>\n",
       "    </tr>\n",
       "  </tbody>\n",
       "</table>\n",
       "<p>731 rows × 1 columns</p>\n",
       "</div>"
      ],
      "text/plain": [
       "            Plt_tranfused\n",
       "2013-01-01          43.54\n",
       "2013-01-02          37.36\n",
       "2013-01-03          39.98\n",
       "2013-01-04          45.70\n",
       "2013-01-05          44.01\n",
       "...                   ...\n",
       "2014-12-28          31.32\n",
       "2014-12-29          41.18\n",
       "2014-12-30          39.23\n",
       "2014-12-31          38.21\n",
       "2015-01-01          33.26\n",
       "\n",
       "[731 rows x 1 columns]"
      ]
     },
     "execution_count": 71,
     "metadata": {},
     "output_type": "execute_result"
    }
   ],
   "source": [
    "np.random.seed(0)\n",
    "\n",
    "def create_df():\n",
    "    \n",
    "    plt = {'mu': 35.55, 'sigma': 4.53}\n",
    "\n",
    "    dates = pd.date_range(start='1/1/2013', end='1/01/2015')\n",
    "    x = np.random.normal(plt['mu'], plt['sigma'], (len(dates), 1)).round(decimals=2)\n",
    "    df = pd.DataFrame(x, columns=['Plt_tranfused'])\n",
    "    df = df.set_index(dates)\n",
    "    \n",
    "    return df\n",
    "\n",
    "def fill_df():\n",
    "    \n",
    "    sigma = [17.16, 16.58, 46.17, 16.3, \n",
    "             32.22, 25.05, 16.41, 2.11, 12.38]\n",
    "    \n",
    "    mu = [255.88, 200.77, 651.95, 198.3, \n",
    "          198.25, 185.19, 56.66, 9.4, 131.35]\n",
    "    \n",
    "    cols = ['PLT', 'WBC', 'RBC', 'HGB', \n",
    "            'MCV', 'MCH', 'MCHC', 'RDW', 'ALYM']\n",
    "    \n",
    "    df = create_df().reindex(columns=create_df().columns.tolist() + cols)\n",
    "    \n",
    "    \n",
    "    for i in range(len(mu)):\n",
    "        \n",
    "        new_vals = np.random.normal(mu[i], sigma[i], (len(create_df()), 1)).round(decimals=2)\n",
    "        df[cols[i]] = new_vals\n",
    "\n",
    "    \n",
    "    df.to_csv('healthnet_mockdata.csv')\n",
    "\n",
    "    \n",
    "fill_df()"
   ]
  },
  {
   "cell_type": "code",
   "execution_count": 74,
   "id": "44ed9a85",
   "metadata": {},
   "outputs": [],
   "source": [
    "new_df = pd.read_csv('healthnet_mockdata.csv')"
   ]
  },
  {
   "cell_type": "code",
   "execution_count": 75,
   "id": "d19a1d1f",
   "metadata": {},
   "outputs": [
    {
     "data": {
      "text/html": [
       "<div>\n",
       "<style scoped>\n",
       "    .dataframe tbody tr th:only-of-type {\n",
       "        vertical-align: middle;\n",
       "    }\n",
       "\n",
       "    .dataframe tbody tr th {\n",
       "        vertical-align: top;\n",
       "    }\n",
       "\n",
       "    .dataframe thead th {\n",
       "        text-align: right;\n",
       "    }\n",
       "</style>\n",
       "<table border=\"1\" class=\"dataframe\">\n",
       "  <thead>\n",
       "    <tr style=\"text-align: right;\">\n",
       "      <th></th>\n",
       "      <th>Unnamed: 0</th>\n",
       "      <th>Plt_tranfused</th>\n",
       "      <th>PLT</th>\n",
       "      <th>WBC</th>\n",
       "      <th>RBC</th>\n",
       "      <th>HGB</th>\n",
       "      <th>MCV</th>\n",
       "      <th>MCH</th>\n",
       "      <th>MCHC</th>\n",
       "      <th>RDW</th>\n",
       "      <th>ALYM</th>\n",
       "    </tr>\n",
       "  </thead>\n",
       "  <tbody>\n",
       "    <tr>\n",
       "      <th>0</th>\n",
       "      <td>2013-01-01</td>\n",
       "      <td>33.75</td>\n",
       "      <td>259.85</td>\n",
       "      <td>207.89</td>\n",
       "      <td>612.16</td>\n",
       "      <td>201.09</td>\n",
       "      <td>229.24</td>\n",
       "      <td>132.21</td>\n",
       "      <td>30.37</td>\n",
       "      <td>9.16</td>\n",
       "      <td>144.14</td>\n",
       "    </tr>\n",
       "    <tr>\n",
       "      <th>1</th>\n",
       "      <td>2013-01-02</td>\n",
       "      <td>31.63</td>\n",
       "      <td>231.85</td>\n",
       "      <td>206.62</td>\n",
       "      <td>664.76</td>\n",
       "      <td>218.56</td>\n",
       "      <td>268.55</td>\n",
       "      <td>178.66</td>\n",
       "      <td>62.78</td>\n",
       "      <td>11.14</td>\n",
       "      <td>135.53</td>\n",
       "    </tr>\n",
       "    <tr>\n",
       "      <th>2</th>\n",
       "      <td>2013-01-03</td>\n",
       "      <td>38.58</td>\n",
       "      <td>233.94</td>\n",
       "      <td>212.81</td>\n",
       "      <td>736.43</td>\n",
       "      <td>202.80</td>\n",
       "      <td>211.90</td>\n",
       "      <td>185.57</td>\n",
       "      <td>40.10</td>\n",
       "      <td>7.09</td>\n",
       "      <td>161.05</td>\n",
       "    </tr>\n",
       "    <tr>\n",
       "      <th>3</th>\n",
       "      <td>2013-01-04</td>\n",
       "      <td>29.45</td>\n",
       "      <td>262.60</td>\n",
       "      <td>223.99</td>\n",
       "      <td>589.60</td>\n",
       "      <td>174.25</td>\n",
       "      <td>220.29</td>\n",
       "      <td>199.53</td>\n",
       "      <td>60.06</td>\n",
       "      <td>8.99</td>\n",
       "      <td>132.87</td>\n",
       "    </tr>\n",
       "    <tr>\n",
       "      <th>4</th>\n",
       "      <td>2013-01-05</td>\n",
       "      <td>40.58</td>\n",
       "      <td>227.88</td>\n",
       "      <td>184.17</td>\n",
       "      <td>659.70</td>\n",
       "      <td>201.17</td>\n",
       "      <td>220.76</td>\n",
       "      <td>186.90</td>\n",
       "      <td>69.28</td>\n",
       "      <td>11.09</td>\n",
       "      <td>138.78</td>\n",
       "    </tr>\n",
       "  </tbody>\n",
       "</table>\n",
       "</div>"
      ],
      "text/plain": [
       "   Unnamed: 0  Plt_tranfused     PLT     WBC     RBC     HGB     MCV     MCH  \\\n",
       "0  2013-01-01          33.75  259.85  207.89  612.16  201.09  229.24  132.21   \n",
       "1  2013-01-02          31.63  231.85  206.62  664.76  218.56  268.55  178.66   \n",
       "2  2013-01-03          38.58  233.94  212.81  736.43  202.80  211.90  185.57   \n",
       "3  2013-01-04          29.45  262.60  223.99  589.60  174.25  220.29  199.53   \n",
       "4  2013-01-05          40.58  227.88  184.17  659.70  201.17  220.76  186.90   \n",
       "\n",
       "    MCHC    RDW    ALYM  \n",
       "0  30.37   9.16  144.14  \n",
       "1  62.78  11.14  135.53  \n",
       "2  40.10   7.09  161.05  \n",
       "3  60.06   8.99  132.87  \n",
       "4  69.28  11.09  138.78  "
      ]
     },
     "execution_count": 75,
     "metadata": {},
     "output_type": "execute_result"
    }
   ],
   "source": [
    "new_df.head()"
   ]
  },
  {
   "cell_type": "code",
   "execution_count": null,
   "id": "6b9b6593",
   "metadata": {},
   "outputs": [],
   "source": []
  },
  {
   "cell_type": "code",
   "execution_count": null,
   "id": "278ec91e",
   "metadata": {},
   "outputs": [],
   "source": []
  },
  {
   "cell_type": "code",
   "execution_count": null,
   "id": "d2cb6576",
   "metadata": {},
   "outputs": [],
   "source": []
  },
  {
   "cell_type": "code",
   "execution_count": null,
   "id": "d0c31aaf",
   "metadata": {},
   "outputs": [],
   "source": []
  },
  {
   "cell_type": "code",
   "execution_count": null,
   "id": "68cf80a3",
   "metadata": {},
   "outputs": [],
   "source": []
  },
  {
   "cell_type": "code",
   "execution_count": null,
   "id": "3ee7f0fd",
   "metadata": {},
   "outputs": [],
   "source": []
  },
  {
   "cell_type": "code",
   "execution_count": null,
   "id": "a4c0c96c",
   "metadata": {},
   "outputs": [],
   "source": []
  },
  {
   "cell_type": "code",
   "execution_count": null,
   "id": "50fc643c",
   "metadata": {},
   "outputs": [],
   "source": []
  },
  {
   "cell_type": "code",
   "execution_count": null,
   "id": "1dfbdfff",
   "metadata": {},
   "outputs": [],
   "source": []
  },
  {
   "cell_type": "code",
   "execution_count": null,
   "id": "c29f187a",
   "metadata": {},
   "outputs": [],
   "source": []
  },
  {
   "cell_type": "code",
   "execution_count": null,
   "id": "da303380",
   "metadata": {},
   "outputs": [],
   "source": []
  },
  {
   "cell_type": "code",
   "execution_count": null,
   "id": "921850ac",
   "metadata": {},
   "outputs": [],
   "source": []
  },
  {
   "cell_type": "code",
   "execution_count": null,
   "id": "80b258e1",
   "metadata": {},
   "outputs": [],
   "source": []
  },
  {
   "cell_type": "code",
   "execution_count": null,
   "id": "6828aaa7",
   "metadata": {},
   "outputs": [],
   "source": []
  },
  {
   "cell_type": "code",
   "execution_count": 22,
   "id": "339828c3",
   "metadata": {
    "collapsed": true
   },
   "outputs": [
    {
     "data": {
      "text/plain": [
       "({'PLT': 255.88,\n",
       "  'WBC': 200.77,\n",
       "  'RBC': 651.95,\n",
       "  'HGB': 198.3,\n",
       "  'MCV': 198.25,\n",
       "  'MCH': 185.19,\n",
       "  'MCHC': 56.66,\n",
       "  'RDW': 9.4,\n",
       "  'ALYM': 131.35},\n",
       " {'PLT': 17.16,\n",
       "  'WBC': 16.58,\n",
       "  'RBC': 46.17,\n",
       "  'HGB': 16.3,\n",
       "  'MCV': 32.22,\n",
       "  'MCH': 25.05,\n",
       "  'MCHC': 16.41,\n",
       "  'RDW': 2.11,\n",
       "  'ALYM': 12.38})"
      ]
     },
     "execution_count": 22,
     "metadata": {},
     "output_type": "execute_result"
    }
   ],
   "source": [
    "# mock_mu_sigma['mu'], mock_mu_sigma['sigma']"
   ]
  },
  {
   "cell_type": "code",
   "execution_count": 30,
   "id": "5c734657",
   "metadata": {},
   "outputs": [
    {
     "ename": "NameError",
     "evalue": "name 'y' is not defined",
     "output_type": "error",
     "traceback": [
      "\u001b[0;31m---------------------------------------------------------------------------\u001b[0m",
      "\u001b[0;31mNameError\u001b[0m                                 Traceback (most recent call last)",
      "\u001b[0;32m<ipython-input-30-ebeb3855579a>\u001b[0m in \u001b[0;36m<module>\u001b[0;34m\u001b[0m\n\u001b[1;32m      1\u001b[0m \u001b[0;32mfor\u001b[0m \u001b[0mkey\u001b[0m \u001b[0;32min\u001b[0m \u001b[0mmock\u001b[0m\u001b[0;34m.\u001b[0m\u001b[0mkeys\u001b[0m\u001b[0;34m(\u001b[0m\u001b[0;34m)\u001b[0m\u001b[0;34m:\u001b[0m\u001b[0;34m\u001b[0m\u001b[0;34m\u001b[0m\u001b[0m\n\u001b[1;32m      2\u001b[0m     \u001b[0mdi\u001b[0m \u001b[0;34m=\u001b[0m \u001b[0mmock\u001b[0m\u001b[0;34m[\u001b[0m\u001b[0mkey\u001b[0m\u001b[0;34m]\u001b[0m\u001b[0;34m\u001b[0m\u001b[0;34m\u001b[0m\u001b[0m\n\u001b[0;32m----> 3\u001b[0;31m     \u001b[0;32mif\u001b[0m \u001b[0my\u001b[0m \u001b[0;32min\u001b[0m \u001b[0mdi\u001b[0m\u001b[0;34m.\u001b[0m\u001b[0mkeys\u001b[0m\u001b[0;34m(\u001b[0m\u001b[0;34m)\u001b[0m\u001b[0;34m:\u001b[0m\u001b[0;34m\u001b[0m\u001b[0;34m\u001b[0m\u001b[0m\n\u001b[0m\u001b[1;32m      4\u001b[0m        \u001b[0minst\u001b[0m \u001b[0;34m=\u001b[0m \u001b[0mkey\u001b[0m\u001b[0;34m\u001b[0m\u001b[0;34m\u001b[0m\u001b[0m\n\u001b[1;32m      5\u001b[0m        \u001b[0mcont\u001b[0m \u001b[0;34m=\u001b[0m \u001b[0mdi\u001b[0m\u001b[0;34m[\u001b[0m\u001b[0my\u001b[0m\u001b[0;34m]\u001b[0m\u001b[0;34m\u001b[0m\u001b[0;34m\u001b[0m\u001b[0m\n",
      "\u001b[0;31mNameError\u001b[0m: name 'y' is not defined"
     ]
    }
   ],
   "source": [
    "y = ''\n",
    "\n",
    "for key in mock.keys():\n",
    "    di = mock[key]\n",
    "    if y in di.keys():\n",
    "       inst = key\n",
    "       cont = di[y]"
   ]
  },
  {
   "cell_type": "code",
   "execution_count": null,
   "id": "c702403a",
   "metadata": {},
   "outputs": [],
   "source": []
  }
 ],
 "metadata": {
  "kernelspec": {
   "display_name": "Python 3.7.9 64-bit ('base': conda)",
   "language": "python",
   "name": "python379jvsc74a57bd02acd09816f89e022a993936d6d6401322ff403f057a1f029a403a58fe89ae580"
  },
  "language_info": {
   "codemirror_mode": {
    "name": "ipython",
    "version": 3
   },
   "file_extension": ".py",
   "mimetype": "text/x-python",
   "name": "python",
   "nbconvert_exporter": "python",
   "pygments_lexer": "ipython3",
   "version": "3.7.9"
  }
 },
 "nbformat": 4,
 "nbformat_minor": 5
}
